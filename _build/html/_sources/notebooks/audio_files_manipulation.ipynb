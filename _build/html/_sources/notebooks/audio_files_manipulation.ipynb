{
 "cells": [
  {
   "cell_type": "markdown",
   "metadata": {},
   "source": [
    "# Audio Files Manipulation"
   ]
  },
  {
   "cell_type": "code",
   "execution_count": null,
   "metadata": {},
   "outputs": [],
   "source": [
    "import numpy as np\n",
    "import matplotlib.pyplot as plt\n",
    "\n",
    "plt.style.use('seaborn-v0_8-whitegrid')\n",
    "plt.rcParams['axes.grid'] = True"
   ]
  },
  {
   "cell_type": "code",
   "execution_count": null,
   "metadata": {},
   "outputs": [],
   "source": [
    "def find_files(start_path: str, extensions: List[str] = AUDIO_EXTENSIONS) -> List[str]:\n",
    "    \"\"\"Find all audio files in a directory recursively.\"\"\"\n",
    "    extensions = [ext.lower() if ext.startswith(\".\") else f\".{ext.lower()}\" for ext in extensions]\n",
    "    matched_files = []\n",
    "    for root, _, files in os.walk(start_path):\n",
    "        for file in files:\n",
    "            if any(file.lower().endswith(ext) for ext in extensions):\n",
    "                matched_files.append(os.path.join(root, file))\n",
    "    return sorted(matched_files)"
   ]
  },
  {
   "cell_type": "code",
   "execution_count": null,
   "metadata": {},
   "outputs": [],
   "source": [
    "def get_media_length_in_dir(file_path):\n",
    "    \"\"\"\n",
    "    Function to get the length of audio files in a directory.\n",
    "    Supported file types: .wav, .wave\n",
    "\n",
    "    Parameters\n",
    "    ----------\n",
    "    file_path : str\n",
    "        Path to the directory containing the audio files.\n",
    "    \"\"\"\n",
    "    file_list = os.listdir(file_path)\n",
    "    print(f\"Files in directory: {file_path}\")\n",
    "    print(\"\")\n",
    "\n",
    "    for file_name in file_list:\n",
    "        single_file_path = os.path.join(file_path, file_name)\n",
    "        print(f\"Processing file: {single_file_path}\")\n",
    "\n",
    "        if single_file_path.endswith((\".wav\", \".wave\")):\n",
    "            waveform, sample_rate = torchaudio.load(single_file_path)\n",
    "            total_length_samples = waveform.shape[1]\n",
    "            total_length_seconds = total_length_samples / sample_rate\n",
    "            total_number_of_frames = total_length_samples\n",
    "            minutes, seconds = divmod(total_length_seconds, 60)\n",
    "            print(\n",
    "                \"Length in {}: {} minutes, {:.2f} seconds\"\n",
    "                .format(single_file_path, int(minutes), seconds)\n",
    "            )\n",
    "            print(\n",
    "                \"Number of elements in {}: {}\"\n",
    "                .format(single_file_path, total_number_of_frames)\n",
    "            )\n",
    "\n",
    "        else:\n",
    "            print(\"Skipping {} (unsupported file type)\"\n",
    "                  .format(single_file_path))\n",
    "\n",
    "        print(\"\")"
   ]
  },
  {
   "cell_type": "code",
   "execution_count": null,
   "metadata": {},
   "outputs": [],
   "source": [
    "def load_audio(file_path: str):\n",
    "    \"\"\"Load an audio file using scipy.\"\"\"\n",
    "    sample_rate, waveform = wav.read(file_path)\n",
    "    if len(waveform.shape) > 1:\n",
    "        waveform = waveform.mean(axis=1)  # Convert to mono if stereo\n",
    "    return waveform, sample_rate"
   ]
  },
  {
   "cell_type": "code",
   "execution_count": null,
   "metadata": {},
   "outputs": [],
   "source": [
    "def truncate_to_fixed_length(signal: np.ndarray, length: int) -> np.ndarray:\n",
    "    \"\"\"Pad or truncate an audio signal to a specified length.\"\"\"\n",
    "    if len(signal) < length:\n",
    "        return np.pad(signal, (0, length - len(signal)), mode='constant')\n",
    "    return signal[:length]"
   ]
  }
 ],
 "metadata": {
  "kernelspec": {
   "display_name": "3.12.7",
   "language": "python",
   "name": "python3"
  },
  "language_info": {
   "name": "python",
   "version": "3.12.7"
  }
 },
 "nbformat": 4,
 "nbformat_minor": 2
}
