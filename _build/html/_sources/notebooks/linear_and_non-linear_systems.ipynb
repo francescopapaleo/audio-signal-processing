{
 "cells": [
  {
   "cell_type": "markdown",
   "metadata": {},
   "source": [
    "# Linear & Non-Linear Systems in Discrete Time (DT)\n",
    "\n",
    "## Amplitude properties:\n",
    "1. Linearity\n",
    "1. Stability\n",
    "1. Invertibility\n",
    "\n",
    "## Time properties:\n",
    "1. Time invariance\n",
    "1. Memory\n",
    "1. Causality"
   ]
  },
  {
   "cell_type": "markdown",
   "metadata": {},
   "source": [
    "## Superposition Principle\n",
    "\n",
    "- Law of additivity\n",
    "- Law of homogeneity"
   ]
  },
  {
   "cell_type": "code",
   "execution_count": 1,
   "metadata": {},
   "outputs": [
    {
     "name": "stdout",
     "output_type": "stream",
     "text": [
      "The system does not follow the law of additivity and is likely non-linear.\n"
     ]
    }
   ],
   "source": [
    "# Law of Additivity test for linearity\n",
    "\n",
    "import numpy as np\n",
    "\n",
    "# Hypothetical audio processing system function\n",
    "def audio_processing_system(input_signal):\n",
    "    # For demonstration, let's assume the system just doubles the input signal\n",
    "    # A real system might have more complex processing\n",
    "    output_signal = np.cos(input_signal)\n",
    "    return output_signal\n",
    "\n",
    "# Define two input signals\n",
    "input1 = np.array([1, 2, 3, 4, 5])  # Example input signal A\n",
    "input2 = np.array([5, 4, 3, 2, 1])  # Example input signal B\n",
    "\n",
    "# Process inputs individually\n",
    "output1 = audio_processing_system(input1)\n",
    "output2 = audio_processing_system(input2)\n",
    "\n",
    "# Combine inputs and process combined input\n",
    "combined_input = input1 + input2\n",
    "combined_output = audio_processing_system(combined_input)\n",
    "\n",
    "# Sum individual outputs\n",
    "sum_of_outputs = output1 + output2\n",
    "\n",
    "# Compare combined output with sum of individual outputs\n",
    "if np.array_equal(combined_output, sum_of_outputs):\n",
    "    print(\"The system follows the law of additivity and is likely linear.\")\n",
    "else:\n",
    "    print(\"The system does not follow the law of additivity and is likely non-linear.\")"
   ]
  },
  {
   "cell_type": "code",
   "execution_count": 2,
   "metadata": {},
   "outputs": [
    {
     "name": "stdout",
     "output_type": "stream",
     "text": [
      "The system does not follow the law of homogeneity and is likely non-linear.\n"
     ]
    }
   ],
   "source": [
    "# Law of Homogeneity test for linearity\n",
    "\n",
    "# Hypothetical audio processing system function\n",
    "def audio_processing_system(input_signal):\n",
    "    # For demonstration, let's assume the system just doubles the input signal\n",
    "    # A real system might have more complex processing\n",
    "    output_signal = 2 * input_signal + 1\n",
    "    return output_signal\n",
    "\n",
    "# Define an input signal\n",
    "input_signal = np.array([1, 2, 3, 4, 5])  # Example input signal\n",
    "\n",
    "# Define a scaling factor\n",
    "scaling_factor = 3\n",
    "\n",
    "# Process the original input signal\n",
    "original_output = audio_processing_system(input_signal)\n",
    "\n",
    "# Scale the input signal and process the scaled input\n",
    "scaled_input = scaling_factor * input_signal\n",
    "scaled_output = audio_processing_system(scaled_input)\n",
    "\n",
    "# Check if the scaled output is the scaling factor times the original output\n",
    "expected_scaled_output = scaling_factor * original_output\n",
    "\n",
    "# Compare scaled output with expected scaled output\n",
    "if np.array_equal(scaled_output, expected_scaled_output):\n",
    "    print(\"The system follows the law of homogeneity and is likely linear.\")\n",
    "else:\n",
    "    print(\"The system does not follow the law of homogeneity and is likely non-linear.\")\n"
   ]
  },
  {
   "cell_type": "code",
   "execution_count": null,
   "metadata": {},
   "outputs": [],
   "source": []
  }
 ],
 "metadata": {
  "kernelspec": {
   "display_name": "3.12.7",
   "language": "python",
   "name": "python3"
  },
  "language_info": {
   "codemirror_mode": {
    "name": "ipython",
    "version": 3
   },
   "file_extension": ".py",
   "mimetype": "text/x-python",
   "name": "python",
   "nbconvert_exporter": "python",
   "pygments_lexer": "ipython3",
   "version": "3.12.7"
  }
 },
 "nbformat": 4,
 "nbformat_minor": 2
}
