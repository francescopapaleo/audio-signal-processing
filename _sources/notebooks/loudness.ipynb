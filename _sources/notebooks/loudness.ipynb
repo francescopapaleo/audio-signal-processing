{
 "cells": [
  {
   "cell_type": "markdown",
   "metadata": {},
   "source": [
    "# Loudness according to: ITU-R BS.1770-2\n",
    "\n",
    "```\n",
    "Pre Filter >> RLB Filter >> Power (mean square) >> Gain >> Sum >> Display\n",
    "```\n",
    "\n",
    "\\begin{equation}\n",
    "\\text{loundness} = -0.691 + 10 \\log_{10} (\\text{power})\n",
    "\\end{equation}"
   ]
  },
  {
   "cell_type": "code",
   "execution_count": null,
   "metadata": {},
   "outputs": [],
   "source": []
  }
 ],
 "metadata": {
  "kernelspec": {
   "display_name": "3.12.7",
   "language": "python",
   "name": "python3"
  },
  "language_info": {
   "codemirror_mode": {
    "name": "ipython",
    "version": 3
   },
   "file_extension": ".py",
   "mimetype": "text/x-python",
   "name": "python",
   "nbconvert_exporter": "python",
   "pygments_lexer": "ipython3",
   "version": "3.12.7"
  }
 },
 "nbformat": 4,
 "nbformat_minor": 2
}
