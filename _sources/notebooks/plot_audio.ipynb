{
 "cells": [
  {
   "cell_type": "code",
   "execution_count": null,
   "metadata": {},
   "outputs": [],
   "source": [
    "import numpy as np\n",
    "import matplotlib.pyplot as plt\n",
    "\n",
    "plt.style.use('seaborn-v0_8-whitegrid')\n",
    "plt.rcParams['axes.grid'] = True"
   ]
  },
  {
   "cell_type": "code",
   "execution_count": null,
   "metadata": {},
   "outputs": [],
   "source": [
    "\n",
    "def plot_waveform(waveform: np.ndarray, sample_rate: int, filename: str = \"\"):\n",
    "    \"\"\"Plot the waveform of an audio signal.\"\"\"\n",
    "    time_axis = np.arange(waveform.shape[0]) / sample_rate\n",
    "    plt.figure(figsize=(10, 4))\n",
    "    plt.plot(time_axis, waveform, linewidth=1)\n",
    "    plt.grid(True)\n",
    "    plt.title(\"Waveform\")\n",
    "    plt.xlabel(\"Time (s)\")\n",
    "    plt.ylabel(\"Amplitude\")\n",
    "    plt.savefig(filename + \"_waveform.png\")\n",
    "    plt.close()\n",
    "\n",
    "def plot_specgram(waveform: np.ndarray, sample_rate: int, filename: str = \"\"):\n",
    "    \"\"\"Plot the spectrogram of an audio signal.\"\"\"\n",
    "    plt.figure(figsize=(10, 4))\n",
    "    plt.specgram(waveform, Fs=sample_rate, cmap='viridis')\n",
    "    plt.colorbar(label='Intensity (dB)')\n",
    "    plt.title(\"Spectrogram\")\n",
    "    plt.xlabel(\"Time (s)\")\n",
    "    plt.ylabel(\"Frequency (Hz)\")\n",
    "    plt.savefig(filename + \"_spectrogram.png\")\n",
    "    plt.close()"
   ]
  }
 ],
 "metadata": {
  "kernelspec": {
   "display_name": "3.12.7",
   "language": "python",
   "name": "python3"
  },
  "language_info": {
   "name": "python",
   "version": "3.12.7"
  }
 },
 "nbformat": 4,
 "nbformat_minor": 2
}
